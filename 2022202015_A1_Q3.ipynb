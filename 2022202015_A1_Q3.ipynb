{
  "cells": [
    {
      "cell_type": "markdown",
      "metadata": {
        "id": "view-in-github",
        "colab_type": "text"
      },
      "source": [
        "<a href=\"https://colab.research.google.com/github/RutvikRJ6800/AVL-Cpp/blob/main/2022202015_A1_Q3.ipynb\" target=\"_parent\"><img src=\"https://colab.research.google.com/assets/colab-badge.svg\" alt=\"Open In Colab\"/></a>"
      ]
    },
    {
      "cell_type": "markdown",
      "metadata": {
        "id": "improving-pepper"
      },
      "source": [
        "# Assignment 1 - Question 3\n",
        "The objective of this assignment is to get you familiarize with  the  problem  of  `Linear Regression`.\n",
        "\n",
        "## Instructions\n",
        "- Write your code and analysis in the indicated cells.\n",
        "- Ensure that this notebook runs without errors when the cells are run in sequence.\n",
        "- Do not attempt to change the contents of other cells.\n",
        "- No inbuilt functions to be used until specified.\n",
        "\n",
        "## Submission\n",
        "- Ensure that this notebook runs without errors when the cells are run in sequence.\n",
        "- Rename the notebook to `<roll_number>_A1_Q3.ipynb`."
      ],
      "id": "improving-pepper"
    },
    {
      "cell_type": "markdown",
      "metadata": {
        "id": "final-transaction"
      },
      "source": [
        "## 1.3.0 Background about the dataset\n",
        "\n",
        "TLDR: You have 25 independent variables (`x1, x2, x3, ... , x25`) type: `float` for each data point. You can use a linear combination of these 25 independent variables to predict the y (dependent variable) of each data point."
      ],
      "id": "final-transaction"
    },
    {
      "cell_type": "code",
      "execution_count": 1,
      "metadata": {
        "colab": {
          "base_uri": "https://localhost:8080/"
        },
        "id": "QL2Ftbn854w-",
        "outputId": "a93b031d-1850-41a7-82c1-a0bf6693d87a"
      },
      "outputs": [
        {
          "output_type": "stream",
          "name": "stdout",
          "text": [
            "Mounted at /content/drive\n"
          ]
        }
      ],
      "source": [
        "from google.colab import drive\n",
        "drive.mount('/content/drive')"
      ],
      "id": "QL2Ftbn854w-"
    },
    {
      "cell_type": "code",
      "execution_count": 2,
      "metadata": {
        "id": "lyric-olympus"
      },
      "outputs": [],
      "source": [
        "import csv\n",
        "import random\n",
        "import numpy as np\n",
        "import matplotlib.pyplot as plt\n",
        "import pandas as pd"
      ],
      "id": "lyric-olympus"
    },
    {
      "cell_type": "code",
      "execution_count": 3,
      "metadata": {
        "id": "hundred-receipt"
      },
      "outputs": [],
      "source": [
        "train_data = list()\n",
        "with open('/content/drive/MyDrive/Colab Notebooks/Assignment_1/Q3/train_q3.csv', 'r') as infile:\n",
        "    input_rows = csv.DictReader(infile)\n",
        "    for row in input_rows:\n",
        "        data_point = ([float(row['x1']), float(row['x2']), float(row['x3']),\n",
        "                       float(row['x4']), float(row['x5']), float(row['x6']),\n",
        "                        float(row['x7']), float(row['x8']), float(row['x9']),\n",
        "                        float(row['x10']), float(row['x11']), float(row['x12']),\n",
        "                        float(row['x13']), float(row['x14']), float(row['x15']),\n",
        "                        float(row['x16']), float(row['x17']), float(row['x18']),\n",
        "                        float(row['x19']), float(row['x20']), float(row['x21']),\n",
        "                        float(row['x22']), float(row['x23']), float(row['x24']),\n",
        "                        float(row['x25'])], float(row['y']))\n",
        "        train_data.append(data_point)\n",
        "        \n",
        "# each point in x_train has 25 values - 1 for each feature\n",
        "x_train = [x[0] for x in train_data]\n",
        "# each point in y_train has 1 value - the 'y' of the molecule\n",
        "y_train = [x[1] for x in train_data]\n",
        "\n",
        "\n",
        "test_data = list()\n",
        "with open('/content/drive/MyDrive/Colab Notebooks/Assignment_1/Q3/test_q3.csv', 'r') as infile:\n",
        "    input_rows = csv.DictReader(infile)\n",
        "    for row in input_rows:\n",
        "        data_point = ([float(row['x1']), float(row['x2']), float(row['x3']),\n",
        "                        float(row['x4']), float(row['x5']), float(row['x6']),\n",
        "                        float(row['x7']), float(row['x8']), float(row['x9']),\n",
        "                        float(row['x10']), float(row['x11']), float(row['x12']),\n",
        "                        float(row['x13']), float(row['x14']), float(row['x15']),\n",
        "                        float(row['x16']), float(row['x17']), float(row['x18']),\n",
        "                        float(row['x19']), float(row['x20']), float(row['x21']),\n",
        "                        float(row['x22']), float(row['x23']), float(row['x24']),\n",
        "                        float(row['x25'])], float(row['y']))\n",
        "        test_data.append(data_point)\n",
        "\n",
        "x_test = [x[0] for x in test_data]\n",
        "y_test = [x[1] for x in test_data]"
      ],
      "id": "hundred-receipt"
    },
    {
      "cell_type": "code",
      "execution_count": 40,
      "metadata": {
        "colab": {
          "base_uri": "https://localhost:8080/"
        },
        "id": "h1kDhInB6Kng",
        "outputId": "16f35a17-4cf0-4c3e-d737-465592062f8b"
      },
      "outputs": [
        {
          "output_type": "stream",
          "name": "stdout",
          "text": [
            "(240, 25)\n",
            "(240,)\n"
          ]
        }
      ],
      "source": [
        "x_train = np.array(x_train)\n",
        "y_train = np.array(y_train)\n",
        "print((x_train.shape))\n",
        "print((y_train.shape))"
      ],
      "id": "h1kDhInB6Kng"
    },
    {
      "cell_type": "markdown",
      "metadata": {
        "id": "square-direction"
      },
      "source": [
        "### 1.3.1 Implement a Linear Regression model that minimizes the MSE **without using any libraries**. You may use NumPy to vectorize your code, but *do not use numpy.polyfit* or anything similar.\n",
        "\n",
        "1.3.1.1 Explain how you plan to implement Linear Regression in 5-10 lines.\n",
        "\n",
        "1.3.1.2 Implement Linear Regression using `x_train` and `y_train` as the train dataset.\n",
        "\n",
        "1.3.2.3 Choose the best learning rate and print the learning rate for which you achieved the best MSE.\n",
        "\n",
        "1.2.1.4 Make a [Parity Plot](https://en.wikipedia.org/wiki/Parity_plot) of your model's bandgap predictions on the test set with the actual values."
      ],
      "id": "square-direction"
    },
    {
      "cell_type": "markdown",
      "metadata": {
        "id": "frozen-forth"
      },
      "source": [
        "<!-- your answer to 1.3.1.1 -->\n",
        "`ANSWER 1.3.1.1`\n",
        "* In my implemetation of Linear Regression i made class with name LinearRegression, which has methods as fit(), predit(), score(), and get_mse()\n",
        "\n",
        "* .fit() function takes train data, no. of epochs and learning rate as input and model try to fit best on it.\n",
        "\n",
        "* In each pass of 1 epoch cost function will be calculated and parameters such as coefficients and intercept (b) will change s.t. cost function will minimise\n",
        "\n",
        "* Parameter updation use Gradient decent algorithm with learning rate taken as input of .fit() function\n",
        "\n",
        "* Cost function calculation and Parameter change will be performed for number of epoch taken as argument\n",
        "\n",
        "* Final Parameters (Coefficents and intercept) will be used to predict the ouput on test observations"
      ],
      "id": "frozen-forth"
    },
    {
      "cell_type": "code",
      "execution_count": 62,
      "metadata": {
        "id": "angry-depression"
      },
      "outputs": [],
      "source": [
        "#@title 1.3.1.2 implement Linear Regression\n",
        "# implement Linear Regression\n",
        "class LinearRegression:\n",
        "\n",
        "    def __init__(self):\n",
        "        self.coef = np.zeros(25) # weights vecotor\n",
        "        self.b = 0.0\n",
        "        self.y_pred = None\n",
        "        self.x_test = None\n",
        "        self.y_test = None\n",
        "        self.m = None # number of rows in train data\n",
        "        self.n = None # number of cols in train data\n",
        "\n",
        "\n",
        "    def calculate_cost(self):\n",
        "        # MSE calculation\n",
        "        return (1/(2*self.m))*(np.sum(np.square(self.y_pred - self.y_train)))\n",
        "\n",
        "\n",
        "    def gradient_decent(self, alpha):\n",
        "        y_sub = self.y_pred - self.y_train\n",
        "        W = self.coef - (alpha)*((1/self.m)*(np.sum((self.x_train.T * y_sub).T, axis=0)))\n",
        "        B = self.b - alpha * ((1 / self.m) * (np.sum(y_sub, dtype = np.float32)))\n",
        "        return W, B\n",
        "    \n",
        "\n",
        "    # fit train data to model\n",
        "    def fit(self, x_train, y_train, epochs = 2000, learning_rate = 0.01):\n",
        "        self.x_train = np.array(x_train)\n",
        "        self.y_train = np.array(y_train)\n",
        "        self.m, self.n = x_train.shape\n",
        "\n",
        "        # interate loop for epochs:\n",
        "        for i in range(epochs+1):\n",
        "            # predict output & calculate cost\n",
        "            self.y_pred = np.dot(self.x_train, self.coef) + self.b\n",
        "            cost = self.calculate_cost() # J()\n",
        "\n",
        "            # update coef and b values\n",
        "            self.coef, self.b = self.gradient_decent(learning_rate)\n",
        "\n",
        "            if i%1000 == 0:\n",
        "                print(\"epoch:\",i,\",cost\",cost)\n",
        "\n",
        "        return self.coef, self.b\n",
        "    \n",
        "\n",
        "    def predict(self, x_test):\n",
        "        x_test = np.array(x_test)\n",
        "        y_pred = np.dot(x_test, self.coef) + self.b\n",
        "        return y_pred\n",
        "    \n",
        "\n",
        "    # get r2 score (accuracy) of the model\n",
        "    def score(self, x_test, y_test):\n",
        "        my_prediction = np.dot(x_test, self.coef) + self.b\n",
        "        y_test = np.array(y_test)\n",
        "        \n",
        "        # caculate r2_score\n",
        "        u = np.sum((y_test - my_prediction)**2)\n",
        "        v = np.sum((y_test - y_test.mean())**2)\n",
        "        return 1 - (u/v) # return r2_score\n",
        "    \n",
        "    \n",
        "    def get_mse(self, x_test, y_test):\n",
        "        my_prediction = np.dot(x_test, self.coef) + self.b\n",
        "        y_test = np.array(y_test)\n",
        "        no_of_obs = len(y_train)\n",
        "        return (1/no_of_obs) * (np.sum(np.square(my_prediction-y_test)))"
      ],
      "id": "angry-depression"
    },
    {
      "cell_type": "code",
      "execution_count": 41,
      "metadata": {
        "colab": {
          "base_uri": "https://localhost:8080/"
        },
        "id": "1m1Oy4wcSVsl",
        "outputId": "324fc0ec-c876-41d9-c1ce-77072f635480"
      },
      "outputs": [
        {
          "output_type": "stream",
          "name": "stdout",
          "text": [
            "epoch: 0 ,cost 3.076785754731054\n",
            "epoch: 1000 ,cost 0.10244680153854445\n",
            "epoch: 2000 ,cost 0.02044310495258081\n"
          ]
        }
      ],
      "source": [
        "LR = LinearRegression()\n",
        "w, b = LR.fit(x_train, y_train) # train model with default epochs(2000) and learning rate 0.01\n",
        "# print(w)\n",
        "# print(b)"
      ],
      "id": "1m1Oy4wcSVsl"
    },
    {
      "cell_type": "code",
      "source": [
        "LR.score(x_test, y_test) # print score (r2_score) of trained model"
      ],
      "metadata": {
        "colab": {
          "base_uri": "https://localhost:8080/"
        },
        "id": "EeDCAnzJ3P7H",
        "outputId": "11093670-31cb-465f-ef40-2e8f4b8a0b97"
      },
      "id": "EeDCAnzJ3P7H",
      "execution_count": 7,
      "outputs": [
        {
          "output_type": "execute_result",
          "data": {
            "text/plain": [
              "0.9562556900739556"
            ]
          },
          "metadata": {},
          "execution_count": 7
        }
      ]
    },
    {
      "cell_type": "code",
      "execution_count": 8,
      "metadata": {
        "id": "b19c0ac4",
        "colab": {
          "base_uri": "https://localhost:8080/"
        },
        "outputId": "d4dab276-4ac8-472a-8905-71815e719c2d"
      },
      "outputs": [
        {
          "output_type": "stream",
          "name": "stdout",
          "text": [
            "epoch: 0 ,cost 3.076785754731054\n",
            "epoch: 1000 ,cost 0.02042293665732925\n",
            "epoch: 2000 ,cost 0.008083347560576557\n",
            "0.7213812210011792\n"
          ]
        }
      ],
      "source": [
        "#@title 1.3.2.3 Choose the best learning rate and print the learning rate for which you achieved the best MSE.\n",
        "# \n",
        "# try with different learning rates and choose the best one\n",
        "LR = LinearRegression()\n",
        "w, b = LR.fit(x_train, y_train, epochs=2000, learning_rate=0.02)\n",
        "print(LR.score(x_test, y_test))"
      ],
      "id": "b19c0ac4"
    },
    {
      "cell_type": "code",
      "source": [
        "LR = LinearRegression()\n",
        "w, b = LR.fit(x_train, y_train, epochs=10000, learning_rate=0.03)\n",
        "print(LR.score(x_test, y_test))"
      ],
      "metadata": {
        "colab": {
          "base_uri": "https://localhost:8080/"
        },
        "id": "1l3RBjjm8kSN",
        "outputId": "bf8c83b6-a420-417e-d98b-2f9c34d0d123"
      },
      "id": "1l3RBjjm8kSN",
      "execution_count": 12,
      "outputs": [
        {
          "output_type": "stream",
          "name": "stdout",
          "text": [
            "epoch: 0 ,cost 3.076785754731054\n",
            "epoch: 1000 ,cost 0.011202987477832735\n",
            "epoch: 2000 ,cost 0.005164063871517622\n",
            "epoch: 3000 ,cost 0.003281105835189147\n",
            "epoch: 4000 ,cost 0.0022794288960885046\n",
            "epoch: 5000 ,cost 0.0016367640051290382\n",
            "epoch: 6000 ,cost 0.0012050746371411218\n",
            "epoch: 7000 ,cost 0.0009119300927065912\n",
            "epoch: 8000 ,cost 0.0007120447626073941\n",
            "epoch: 9000 ,cost 0.0005752606797708344\n",
            "epoch: 10000 ,cost 0.00048122365845650766\n",
            "0.9952798880171229\n"
          ]
        }
      ]
    },
    {
      "cell_type": "code",
      "source": [
        "LR = LinearRegression()\n",
        "w, b = LR.fit(x_train, y_train, epochs=10000, learning_rate=0.04)\n",
        "print(LR.score(x_test, y_test))"
      ],
      "metadata": {
        "colab": {
          "base_uri": "https://localhost:8080/"
        },
        "id": "enNcV--58bSI",
        "outputId": "1d2fdf47-6f6b-4ccd-d297-e0ed6f1d2a0b"
      },
      "id": "enNcV--58bSI",
      "execution_count": 13,
      "outputs": [
        {
          "output_type": "stream",
          "name": "stdout",
          "text": [
            "epoch: 0 ,cost 3.076785754731054\n",
            "epoch: 1000 ,cost 0.008080936642416709\n",
            "epoch: 2000 ,cost 0.0037566943765775934\n",
            "epoch: 3000 ,cost 0.002279315937175552\n",
            "epoch: 4000 ,cost 0.001473712995756927\n",
            "epoch: 5000 ,cost 0.0009973683995247692\n",
            "epoch: 6000 ,cost 0.0007120032245266451\n",
            "epoch: 7000 ,cost 0.0005399280137365338\n",
            "epoch: 8000 ,cost 0.00043525751129286453\n",
            "epoch: 9000 ,cost 0.0003707255622877048\n",
            "epoch: 10000 ,cost 0.00033011760885265395\n",
            "0.9852445485649873\n"
          ]
        }
      ]
    },
    {
      "cell_type": "code",
      "source": [
        "w, b = LR.fit(x_train, y_train, epochs=10000, learning_rate=0.04)\n",
        "print(LR.score(x_test, y_test))"
      ],
      "metadata": {
        "colab": {
          "base_uri": "https://localhost:8080/"
        },
        "id": "lEc3xRi18zsL",
        "outputId": "e8814485-44ae-4af5-fa0b-c34126ffefec"
      },
      "id": "lEc3xRi18zsL",
      "execution_count": 14,
      "outputs": [
        {
          "output_type": "stream",
          "name": "stdout",
          "text": [
            "epoch: 0 ,cost 0.00033008536277531254\n",
            "epoch: 1000 ,cost 0.0003037683091605092\n",
            "epoch: 2000 ,cost 0.0002859900576661945\n",
            "epoch: 3000 ,cost 0.0002733391114416232\n",
            "epoch: 4000 ,cost 0.0002637850657309874\n",
            "epoch: 5000 ,cost 0.00025611889272288493\n",
            "epoch: 6000 ,cost 0.000249620098459329\n",
            "epoch: 7000 ,cost 0.0002438587895746989\n",
            "epoch: 8000 ,cost 0.00023857796441315937\n",
            "epoch: 9000 ,cost 0.00023362351022516208\n",
            "epoch: 10000 ,cost 0.00022890256928878277\n",
            "0.9743134012628634\n"
          ]
        }
      ]
    },
    {
      "cell_type": "code",
      "source": [
        "#@title Plot graph of different learning rate vs MSE (for 2000 epochs)\n",
        "from matplotlib import pyplot as plt\n",
        "\n",
        "x = np.arange (0.01, 0.10, 0.01)\n",
        "y = []\n",
        "\n",
        "for i in x:\n",
        "    LR = LinearRegression()\n",
        "    w, b = LR.fit(x_train, y_train, epochs=2000, learning_rate=i)\n",
        "    y.append(LR.get_mse(x_test, y_test))\n",
        "\n",
        "plt.plot(x, y)\n",
        "plt.xlabel('learning rate')\n",
        "plt.ylabel('MSE')\n",
        "plt.title('learning rate vs MSE for 2000 epochs')\n",
        "plt.show()"
      ],
      "metadata": {
        "colab": {
          "base_uri": "https://localhost:8080/",
          "height": 830
        },
        "id": "sjixSjZkDE_g",
        "outputId": "8fb6dfff-a9b3-498d-990f-c588a82d049a"
      },
      "id": "sjixSjZkDE_g",
      "execution_count": 43,
      "outputs": [
        {
          "output_type": "stream",
          "name": "stdout",
          "text": [
            "epoch: 0 ,cost 3.076785754731054\n",
            "epoch: 1000 ,cost 0.10244680153854445\n",
            "epoch: 2000 ,cost 0.02044310495258081\n",
            "epoch: 0 ,cost 3.076785754731054\n",
            "epoch: 1000 ,cost 0.02042293665732925\n",
            "epoch: 2000 ,cost 0.008083347560576557\n",
            "epoch: 0 ,cost 3.076785754731054\n",
            "epoch: 1000 ,cost 0.011202987477832735\n",
            "epoch: 2000 ,cost 0.005164063871517622\n",
            "epoch: 0 ,cost 3.076785754731054\n",
            "epoch: 1000 ,cost 0.008080936642416709\n",
            "epoch: 2000 ,cost 0.0037566943765775934\n",
            "epoch: 0 ,cost 3.076785754731054\n",
            "epoch: 1000 ,cost 0.006310410184367802\n",
            "epoch: 2000 ,cost 0.0028902018291890874\n",
            "epoch: 0 ,cost 3.076785754731054\n",
            "epoch: 1000 ,cost 0.005162565440480326\n",
            "epoch: 2000 ,cost 0.002279090042121413\n",
            "epoch: 0 ,cost 3.076785754731054\n",
            "epoch: 1000 ,cost 0.00435810097474913\n",
            "epoch: 2000 ,cost 0.00182233064963658\n",
            "epoch: 0 ,cost 3.076785754731054\n",
            "epoch: 1000 ,cost 0.0037557025441675163\n",
            "epoch: 2000 ,cost 0.0014733948038288605\n",
            "epoch: 0 ,cost 3.076785754731054\n",
            "epoch: 1000 ,cost 0.0032799744817716987\n",
            "epoch: 2000 ,cost 0.0012046650519060055\n"
          ]
        },
        {
          "output_type": "display_data",
          "data": {
            "text/plain": [
              "<Figure size 432x288 with 1 Axes>"
            ],
            "image/png": "[encoded data removed]"
          },
          "metadata": {
            "needs_background": "light"
          }
        }
      ]
    },
    {
      "cell_type": "code",
      "execution_count": 69,
      "metadata": {
        "id": "foster-center",
        "outputId": "a9b92811-ed2e-41a9-a6c7-594e11c8c0bb",
        "colab": {
          "base_uri": "https://localhost:8080/",
          "height": 676
        }
      },
      "outputs": [
        {
          "output_type": "stream",
          "name": "stdout",
          "text": [
            "epoch: 0 ,cost 3.076785754731054\n",
            "epoch: 1000 ,cost 0.011202987477832735\n",
            "epoch: 2000 ,cost 0.005164063871517622\n",
            "epoch: 3000 ,cost 0.003281105835189147\n",
            "epoch: 4000 ,cost 0.0022794288960885046\n",
            "epoch: 5000 ,cost 0.0016367640051290382\n",
            "epoch: 6000 ,cost 0.0012050746371411218\n",
            "epoch: 7000 ,cost 0.0009119300927065912\n",
            "epoch: 8000 ,cost 0.0007120447626073941\n",
            "epoch: 9000 ,cost 0.0005752606797708344\n",
            "epoch: 10000 ,cost 0.00048122365845650766\n"
          ]
        },
        {
          "output_type": "display_data",
          "data": {
            "text/plain": [
              "<Figure size 504x504 with 1 Axes>"
            ],
            "image/png": "[encoded data removed]"
          },
          "metadata": {
            "needs_background": "light"
          }
        }
      ],
      "source": [
        "#@title  1.3.1.4 Parity Plot of model's bandgap predictions on the test set with the actual values\n",
        "LR = LinearRegression()\n",
        "w, b = LR.fit(x_train, y_train, epochs=10000, learning_rate=0.03)\n",
        "\n",
        "# Get the predictions of x_test into `y_pred`\n",
        "y_pred = LR.predict(x_test)\n",
        "fig, ax = plt.subplots(figsize=(7,7))\n",
        "\n",
        "ax.scatter(y_test, y_pred)\n",
        "\n",
        "lims = [\n",
        "    np.min([ax.get_xlim(), ax.get_ylim()]),\n",
        "    np.max([ax.get_xlim(), ax.get_ylim()]),\n",
        "]\n",
        "ax.plot(lims, lims, 'k-', alpha=0.75, zorder=0)\n",
        "ax.set_aspect('equal')\n",
        "ax.set_xlim(lims)\n",
        "ax.set_ylim(lims)\n",
        "\n",
        "ax.set_title('Parity Plot of Custom Linear Regression (epochs:10000, learning rate:0.03)')\n",
        "ax.set_xlabel('Ground truth y-values')\n",
        "ax.set_ylabel('Predicted y-values')\n",
        "plt.show()"
      ],
      "id": "foster-center"
    },
    {
      "cell_type": "markdown",
      "metadata": {
        "id": "dominant-chaos"
      },
      "source": [
        "### 1.3.2 Implement Ridge Regression\n",
        "\n",
        "1.3.2.1 Explain Ridge regression briefly in 1-2 lines.\n",
        "\n",
        "1.3.2.2 Implement Ridge regression and make a table of different RMSE scores you achieved with different values of alpha. What does the parameter `alpha` do?\n",
        "\n",
        "1.3.2.3 How does it affect the results here? Explain in 5-10 lines in total. (You can use scikit-learn from this cell onwards)\n",
        "\n",
        "1.3.2.4 Make a Parity Plot of Ridge Regression model's y-predictions on the test set with the actual values."
      ],
      "id": "dominant-chaos"
    },
    {
      "cell_type": "markdown",
      "metadata": {
        "id": "happy-cyprus"
      },
      "source": [
        "<!-- Your answer to 1.3.2.1 -->\n",
        "`1.3.2.1 Answer`\n",
        "\n",
        "* Ridge regression is the type of regression where the L2 norm is used as regularization while minimizing the cost function.\n",
        "\n",
        "* Other flow of computation is same as normal regularization"
      ],
      "id": "happy-cyprus"
    },
    {
      "cell_type": "code",
      "execution_count": 50,
      "metadata": {
        "id": "02a50a51",
        "colab": {
          "base_uri": "https://localhost:8080/",
          "height": 562
        },
        "outputId": "eab31012-fbf9-4233-9011-94e0074eb709"
      },
      "outputs": [
        {
          "output_type": "stream",
          "name": "stdout",
          "text": [
            "r2 score of ridge regression model (alpha = 1) 0.9849409985959743\n"
          ]
        },
        {
          "output_type": "display_data",
          "data": {
            "text/html": [
              "<html>\n",
              "<head><meta charset=\"utf-8\" /></head>\n",
              "<body>\n",
              "    <div>            <script src=\"https://cdnjs.cloudflare.com/ajax/libs/mathjax/2.7.5/MathJax.js?config=TeX-AMS-MML_SVG\"></script><script type=\"text/javascript\">if (window.MathJax) {MathJax.Hub.Config({SVG: {font: \"STIX-Web\"}});}</script>                <script type=\"text/javascript\">window.PlotlyConfig = {MathJaxConfig: 'local'};</script>\n",
              "        <script src=\"https://cdn.plot.ly/plotly-2.8.3.min.js\"></script>                <div id=\"1c4edc57-2432-46f6-9e7d-a5327caccac7\" class=\"plotly-graph-div\" style=\"height:525px; width:100%;\"></div>            <script type=\"text/javascript\">                                    window.PLOTLYENV=window.PLOTLYENV || {};                                    if (document.getElementById(\"1c4edc57-2432-46f6-9e7d-a5327caccac7\")) {                    Plotly.newPlot(                        \"1c4edc57-2432-46f6-9e7d-a5327caccac7\",                        [{\"cells\":{\"values\":[[0.1,0.2,0.3,0.4,0.5,0.6,0.7,0.8,0.9,1.0,1.1,1.2,1.3,1.4,1.5,1.6,1.7,1.8,1.9,2.0],[0.1093486199682714,0.06713987462446544,0.06101878812673205,0.060082895751394305,0.060499199566587135,0.061747046554526,0.06358635774644736,0.06580986572738166,0.06826634135831225,0.07087132528643464,0.0735968972783817,0.07645469689452034,0.07947985762940055,0.0827182445780002,0.08621718497777685,0.09001924218518799,0.09415848946186124,0.09865876669658112,0.1035334321709563,0.1087861489690209]]},\"header\":{\"values\":[\"alpha\",\"RMSE\"]},\"type\":\"table\"}],                        {\"template\":{\"data\":{\"bar\":[{\"error_x\":{\"color\":\"#2a3f5f\"},\"error_y\":{\"color\":\"#2a3f5f\"},\"marker\":{\"line\":{\"color\":\"#E5ECF6\",\"width\":0.5},\"pattern\":{\"fillmode\":\"overlay\",\"size\":10,\"solidity\":0.2}},\"type\":\"bar\"}],\"barpolar\":[{\"marker\":{\"line\":{\"color\":\"#E5ECF6\",\"width\":0.5},\"pattern\":{\"fillmode\":\"overlay\",\"size\":10,\"solidity\":0.2}},\"type\":\"barpolar\"}],\"carpet\":[{\"aaxis\":{\"endlinecolor\":\"#2a3f5f\",\"gridcolor\":\"white\",\"linecolor\":\"white\",\"minorgridcolor\":\"white\",\"startlinecolor\":\"#2a3f5f\"},\"baxis\":{\"endlinecolor\":\"#2a3f5f\",\"gridcolor\":\"white\",\"linecolor\":\"white\",\"minorgridcolor\":\"white\",\"startlinecolor\":\"#2a3f5f\"},\"type\":\"carpet\"}],\"choropleth\":[{\"colorbar\":{\"outlinewidth\":0,\"ticks\":\"\"},\"type\":\"choropleth\"}],\"contour\":[{\"colorbar\":{\"outlinewidth\":0,\"ticks\":\"\"},\"colorscale\":[[0.0,\"#0d0887\"],[0.1111111111111111,\"#46039f\"],[0.2222222222222222,\"#7201a8\"],[0.3333333333333333,\"#9c179e\"],[0.4444444444444444,\"#bd3786\"],[0.5555555555555556,\"#d8576b\"],[0.6666666666666666,\"#ed7953\"],[0.7777777777777778,\"#fb9f3a\"],[0.8888888888888888,\"#fdca26\"],[1.0,\"#f0f921\"]],\"type\":\"contour\"}],\"contourcarpet\":[{\"colorbar\":{\"outlinewidth\":0,\"ticks\":\"\"},\"type\":\"contourcarpet\"}],\"heatmap\":[{\"colorbar\":{\"outlinewidth\":0,\"ticks\":\"\"},\"colorscale\":[[0.0,\"#0d0887\"],[0.1111111111111111,\"#46039f\"],[0.2222222222222222,\"#7201a8\"],[0.3333333333333333,\"#9c179e\"],[0.4444444444444444,\"#bd3786\"],[0.5555555555555556,\"#d8576b\"],[0.6666666666666666,\"#ed7953\"],[0.7777777777777778,\"#fb9f3a\"],[0.8888888888888888,\"#fdca26\"],[1.0,\"#f0f921\"]],\"type\":\"heatmap\"}],\"heatmapgl\":[{\"colorbar\":{\"outlinewidth\":0,\"ticks\":\"\"},\"colorscale\":[[0.0,\"#0d0887\"],[0.1111111111111111,\"#46039f\"],[0.2222222222222222,\"#7201a8\"],[0.3333333333333333,\"#9c179e\"],[0.4444444444444444,\"#bd3786\"],[0.5555555555555556,\"#d8576b\"],[0.6666666666666666,\"#ed7953\"],[0.7777777777777778,\"#fb9f3a\"],[0.8888888888888888,\"#fdca26\"],[1.0,\"#f0f921\"]],\"type\":\"heatmapgl\"}],\"histogram\":[{\"marker\":{\"pattern\":{\"fillmode\":\"overlay\",\"size\":10,\"solidity\":0.2}},\"type\":\"histogram\"}],\"histogram2d\":[{\"colorbar\":{\"outlinewidth\":0,\"ticks\":\"\"},\"colorscale\":[[0.0,\"#0d0887\"],[0.1111111111111111,\"#46039f\"],[0.2222222222222222,\"#7201a8\"],[0.3333333333333333,\"#9c179e\"],[0.4444444444444444,\"#bd3786\"],[0.5555555555555556,\"#d8576b\"],[0.6666666666666666,\"#ed7953\"],[0.7777777777777778,\"#fb9f3a\"],[0.8888888888888888,\"#fdca26\"],[1.0,\"#f0f921\"]],\"type\":\"histogram2d\"}],\"histogram2dcontour\":[{\"colorbar\":{\"outlinewidth\":0,\"ticks\":\"\"},\"colorscale\":[[0.0,\"#0d0887\"],[0.1111111111111111,\"#46039f\"],[0.2222222222222222,\"#7201a8\"],[0.3333333333333333,\"#9c179e\"],[0.4444444444444444,\"#bd3786\"],[0.5555555555555556,\"#d8576b\"],[0.6666666666666666,\"#ed7953\"],[0.7777777777777778,\"#fb9f3a\"],[0.8888888888888888,\"#fdca26\"],[1.0,\"#f0f921\"]],\"type\":\"histogram2dcontour\"}],\"mesh3d\":[{\"colorbar\":{\"outlinewidth\":0,\"ticks\":\"\"},\"type\":\"mesh3d\"}],\"parcoords\":[{\"line\":{\"colorbar\":{\"outlinewidth\":0,\"ticks\":\"\"}},\"type\":\"parcoords\"}],\"pie\":[{\"automargin\":true,\"type\":\"pie\"}],\"scatter\":[{\"marker\":{\"colorbar\":{\"outlinewidth\":0,\"ticks\":\"\"}},\"type\":\"scatter\"}],\"scatter3d\":[{\"line\":{\"colorbar\":{\"outlinewidth\":0,\"ticks\":\"\"}},\"marker\":{\"colorbar\":{\"outlinewidth\":0,\"ticks\":\"\"}},\"type\":\"scatter3d\"}],\"scattercarpet\":[{\"marker\":{\"colorbar\":{\"outlinewidth\":0,\"ticks\":\"\"}},\"type\":\"scattercarpet\"}],\"scattergeo\":[{\"marker\":{\"colorbar\":{\"outlinewidth\":0,\"ticks\":\"\"}},\"type\":\"scattergeo\"}],\"scattergl\":[{\"marker\":{\"colorbar\":{\"outlinewidth\":0,\"ticks\":\"\"}},\"type\":\"scattergl\"}],\"scattermapbox\":[{\"marker\":{\"colorbar\":{\"outlinewidth\":0,\"ticks\":\"\"}},\"type\":\"scattermapbox\"}],\"scatterpolar\":[{\"marker\":{\"colorbar\":{\"outlinewidth\":0,\"ticks\":\"\"}},\"type\":\"scatterpolar\"}],\"scatterpolargl\":[{\"marker\":{\"colorbar\":{\"outlinewidth\":0,\"ticks\":\"\"}},\"type\":\"scatterpolargl\"}],\"scatterternary\":[{\"marker\":{\"colorbar\":{\"outlinewidth\":0,\"ticks\":\"\"}},\"type\":\"scatterternary\"}],\"surface\":[{\"colorbar\":{\"outlinewidth\":0,\"ticks\":\"\"},\"colorscale\":[[0.0,\"#0d0887\"],[0.1111111111111111,\"#46039f\"],[0.2222222222222222,\"#7201a8\"],[0.3333333333333333,\"#9c179e\"],[0.4444444444444444,\"#bd3786\"],[0.5555555555555556,\"#d8576b\"],[0.6666666666666666,\"#ed7953\"],[0.7777777777777778,\"#fb9f3a\"],[0.8888888888888888,\"#fdca26\"],[1.0,\"#f0f921\"]],\"type\":\"surface\"}],\"table\":[{\"cells\":{\"fill\":{\"color\":\"#EBF0F8\"},\"line\":{\"color\":\"white\"}},\"header\":{\"fill\":{\"color\":\"#C8D4E3\"},\"line\":{\"color\":\"white\"}},\"type\":\"table\"}]},\"layout\":{\"annotationdefaults\":{\"arrowcolor\":\"#2a3f5f\",\"arrowhead\":0,\"arrowwidth\":1},\"autotypenumbers\":\"strict\",\"coloraxis\":{\"colorbar\":{\"outlinewidth\":0,\"ticks\":\"\"}},\"colorscale\":{\"diverging\":[[0,\"#8e0152\"],[0.1,\"#c51b7d\"],[0.2,\"#de77ae\"],[0.3,\"#f1b6da\"],[0.4,\"#fde0ef\"],[0.5,\"#f7f7f7\"],[0.6,\"#e6f5d0\"],[0.7,\"#b8e186\"],[0.8,\"#7fbc41\"],[0.9,\"#4d9221\"],[1,\"#276419\"]],\"sequential\":[[0.0,\"#0d0887\"],[0.1111111111111111,\"#46039f\"],[0.2222222222222222,\"#7201a8\"],[0.3333333333333333,\"#9c179e\"],[0.4444444444444444,\"#bd3786\"],[0.5555555555555556,\"#d8576b\"],[0.6666666666666666,\"#ed7953\"],[0.7777777777777778,\"#fb9f3a\"],[0.8888888888888888,\"#fdca26\"],[1.0,\"#f0f921\"]],\"sequentialminus\":[[0.0,\"#0d0887\"],[0.1111111111111111,\"#46039f\"],[0.2222222222222222,\"#7201a8\"],[0.3333333333333333,\"#9c179e\"],[0.4444444444444444,\"#bd3786\"],[0.5555555555555556,\"#d8576b\"],[0.6666666666666666,\"#ed7953\"],[0.7777777777777778,\"#fb9f3a\"],[0.8888888888888888,\"#fdca26\"],[1.0,\"#f0f921\"]]},\"colorway\":[\"#636efa\",\"#EF553B\",\"#00cc96\",\"#ab63fa\",\"#FFA15A\",\"#19d3f3\",\"#FF6692\",\"#B6E880\",\"#FF97FF\",\"#FECB52\"],\"font\":{\"color\":\"#2a3f5f\"},\"geo\":{\"bgcolor\":\"white\",\"lakecolor\":\"white\",\"landcolor\":\"#E5ECF6\",\"showlakes\":true,\"showland\":true,\"subunitcolor\":\"white\"},\"hoverlabel\":{\"align\":\"left\"},\"hovermode\":\"closest\",\"mapbox\":{\"style\":\"light\"},\"paper_bgcolor\":\"white\",\"plot_bgcolor\":\"#E5ECF6\",\"polar\":{\"angularaxis\":{\"gridcolor\":\"white\",\"linecolor\":\"white\",\"ticks\":\"\"},\"bgcolor\":\"#E5ECF6\",\"radialaxis\":{\"gridcolor\":\"white\",\"linecolor\":\"white\",\"ticks\":\"\"}},\"scene\":{\"xaxis\":{\"backgroundcolor\":\"#E5ECF6\",\"gridcolor\":\"white\",\"gridwidth\":2,\"linecolor\":\"white\",\"showbackground\":true,\"ticks\":\"\",\"zerolinecolor\":\"white\"},\"yaxis\":{\"backgroundcolor\":\"#E5ECF6\",\"gridcolor\":\"white\",\"gridwidth\":2,\"linecolor\":\"white\",\"showbackground\":true,\"ticks\":\"\",\"zerolinecolor\":\"white\"},\"zaxis\":{\"backgroundcolor\":\"#E5ECF6\",\"gridcolor\":\"white\",\"gridwidth\":2,\"linecolor\":\"white\",\"showbackground\":true,\"ticks\":\"\",\"zerolinecolor\":\"white\"}},\"shapedefaults\":{\"line\":{\"color\":\"#2a3f5f\"}},\"ternary\":{\"aaxis\":{\"gridcolor\":\"white\",\"linecolor\":\"white\",\"ticks\":\"\"},\"baxis\":{\"gridcolor\":\"white\",\"linecolor\":\"white\",\"ticks\":\"\"},\"bgcolor\":\"#E5ECF6\",\"caxis\":{\"gridcolor\":\"white\",\"linecolor\":\"white\",\"ticks\":\"\"}},\"title\":{\"x\":0.05},\"xaxis\":{\"automargin\":true,\"gridcolor\":\"white\",\"linecolor\":\"white\",\"ticks\":\"\",\"title\":{\"standoff\":15},\"zerolinecolor\":\"white\",\"zerolinewidth\":2},\"yaxis\":{\"automargin\":true,\"gridcolor\":\"white\",\"linecolor\":\"white\",\"ticks\":\"\",\"title\":{\"standoff\":15},\"zerolinecolor\":\"white\",\"zerolinewidth\":2}}}},                        {\"responsive\": true}                    ).then(function(){\n",
              "                            \n",
              "var gd = document.getElementById('1c4edc57-2432-46f6-9e7d-a5327caccac7');\n",
              "var x = new MutationObserver(function (mutations, observer) {{\n",
              "        var display = window.getComputedStyle(gd).display;\n",
              "        if (!display || display === 'none') {{\n",
              "            console.log([gd, 'removed!']);\n",
              "            Plotly.purge(gd);\n",
              "            observer.disconnect();\n",
              "        }}\n",
              "}});\n",
              "\n",
              "// Listen for the removal of the full notebook cells\n",
              "var notebookContainer = gd.closest('#notebook-container');\n",
              "if (notebookContainer) {{\n",
              "    x.observe(notebookContainer, {childList: true});\n",
              "}}\n",
              "\n",
              "// Listen for the clearing of the current output cell\n",
              "var outputEl = gd.closest('.output');\n",
              "if (outputEl) {{\n",
              "    x.observe(outputEl, {childList: true});\n",
              "}}\n",
              "\n",
              "                        })                };                            </script>        </div>\n",
              "</body>\n",
              "</html>"
            ]
          },
          "metadata": {}
        }
      ],
      "source": [
        "#@title 1.3.2.2 implement Ridge regression & explore the effect of different values of `alpha`\n",
        " \n",
        "import sklearn\n",
        "from sklearn.linear_model import Ridge\n",
        "\n",
        "ridge = Ridge()\n",
        "ridge.fit(x_train, y_train)\n",
        "print(\"r2 score of ridge regression model (alpha = 1)\",ridge.score(x_test, y_test))\n",
        "\n",
        "import plotly.graph_objects as go\n",
        "from sklearn.metrics import mean_squared_error\n",
        "\n",
        "alpha_values = np.around(np.arange (0.1, 2.1, 0.1, dtype='float'), decimals=1)\n",
        "y = []\n",
        "for i in alpha_values:\n",
        "    ridge = Ridge(alpha = i)\n",
        "    ridge.fit(x_train, y_train)\n",
        "    y.append(np.sqrt(mean_squared_error(y_test, ridge.predict(x_test))))\n",
        "\n",
        "\n",
        "fig = go.Figure(data=[go.Table(header=dict(values=['alpha', 'RMSE']), cells=dict(values=[alpha_values, y]))])\n",
        "fig.show()"
      ],
      "id": "02a50a51"
    },
    {
      "cell_type": "markdown",
      "metadata": {
        "id": "e54d36d9"
      },
      "source": [
        "<!-- Your answer to 1.3.2.3 -->\n",
        "`1.3.2.3 Answer`\n",
        "* Since ridge regression uses L2 norms into the consideration while minimizing the cost, eventually it stop overfitting the parameters for train data.\n",
        "\n",
        "* Cost function of ridge regression is: Min(||Y – X(theta)||^2 + λ||theta||^2)\n",
        "\n",
        "* Here ||theta||^2 forces parameters(theta) to be small as posible, also λ scale the square term.\n",
        "\n",
        "* Hence model will learn parameters by taking it's value small, to stop the overfit.\n",
        "\n",
        "* Evantually model trained using redge will have low variance.\n",
        "\n",
        "* So, Model will predict correctly even for unseen data"
      ],
      "id": "e54d36d9"
    },
    {
      "cell_type": "code",
      "execution_count": 54,
      "metadata": {
        "id": "e9d2c1e8",
        "colab": {
          "base_uri": "https://localhost:8080/",
          "height": 458
        },
        "outputId": "c56402f0-11c5-4eab-855d-1cbcaa59397e"
      },
      "outputs": [
        {
          "output_type": "display_data",
          "data": {
            "text/plain": [
              "<Figure size 504x504 with 1 Axes>"
            ],
            "image/png": "[encoded data removed]"
          },
          "metadata": {
            "needs_background": "light"
          }
        }
      ],
      "source": [
        "#@title 1.3.2.4 Parity Plot of Ridge Regression model's y-predictions on the test set with the actual values.\n",
        "ridge = Ridge(alpha = 0.4)\n",
        "ridge.fit(x_train, y_train)\n",
        "y_pred = ridge.predict(x_test)\n",
        "fig, ax = plt.subplots(figsize=(7,7))\n",
        "\n",
        "ax.scatter(y_test, y_pred)\n",
        "\n",
        "lims = [\n",
        "    np.min([ax.get_xlim(), ax.get_ylim()]),\n",
        "    np.max([ax.get_xlim(), ax.get_ylim()]),\n",
        "]\n",
        "ax.plot(lims, lims, 'k-', alpha=0.75, zorder=0)\n",
        "ax.set_aspect('equal')\n",
        "ax.set_xlim(lims)\n",
        "ax.set_ylim(lims)\n",
        "\n",
        "ax.set_title('Parity Plot of Ridge Regression with alpha = 1')\n",
        "ax.set_xlabel('Ground truth y-values')\n",
        "ax.set_ylabel('Predicted y-values')\n",
        "plt.show()"
      ],
      "id": "e9d2c1e8"
    },
    {
      "cell_type": "markdown",
      "metadata": {
        "id": "popular-wonder"
      },
      "source": [
        "### 1.3.3 Implement Lasso Regression\n",
        "1.3.3.1 Explain Lasso regression briefly in 1-2 lines.\n",
        "\n",
        "1.3.3.2 Implement Lasso regression and make a table of different RMSE scores you achieved with different values of alpha.\n",
        "\n",
        "1.3.3.3 What does the parameter `alpha` do? How does it affect the results here? Explain in 5-10 lines in total.\n",
        "\n",
        "1.3.3.4 Make a Parity Plot of Lasso Regression model's y-predictions on the test set with the actual values."
      ],
      "id": "popular-wonder"
    },
    {
      "cell_type": "markdown",
      "metadata": {
        "id": "mV9BlPIjm-K1"
      },
      "source": [
        "<!-- Your answer to 1.3.3.1 -->\n",
        "`1.3.3.1 Answer`\n",
        "* Lasso regression is the type of regression where the L1 norm is used as regularization while minimizing the cost function.\n",
        "\n",
        "* Other flow of computation is same as normal regularization\n",
        "\n",
        "* Lasso regression uses absolute coefficient values for normalization."
      ],
      "id": "mV9BlPIjm-K1"
    },
    {
      "cell_type": "code",
      "execution_count": 68,
      "metadata": {
        "id": "09148bbc",
        "colab": {
          "base_uri": "https://localhost:8080/",
          "height": 562
        },
        "outputId": "5a6d0c1b-87b3-458d-91ed-0dd18d5fc6ce"
      },
      "outputs": [
        {
          "output_type": "stream",
          "name": "stdout",
          "text": [
            "r2_score of lasso regression with alpha = 1: -53.66334253166347\n"
          ]
        },
        {
          "output_type": "display_data",
          "data": {
            "text/html": [
              "<html>\n",
              "<head><meta charset=\"utf-8\" /></head>\n",
              "<body>\n",
              "    <div>            <script src=\"https://cdnjs.cloudflare.com/ajax/libs/mathjax/2.7.5/MathJax.js?config=TeX-AMS-MML_SVG\"></script><script type=\"text/javascript\">if (window.MathJax) {MathJax.Hub.Config({SVG: {font: \"STIX-Web\"}});}</script>                <script type=\"text/javascript\">window.PlotlyConfig = {MathJaxConfig: 'local'};</script>\n",
              "        <script src=\"https://cdn.plot.ly/plotly-2.8.3.min.js\"></script>                <div id=\"aebf75fe-48bb-495a-9094-888764f5e9d0\" class=\"plotly-graph-div\" style=\"height:525px; width:100%;\"></div>            <script type=\"text/javascript\">                                    window.PLOTLYENV=window.PLOTLYENV || {};                                    if (document.getElementById(\"aebf75fe-48bb-495a-9094-888764f5e9d0\")) {                    Plotly.newPlot(                        \"aebf75fe-48bb-495a-9094-888764f5e9d0\",                        [{\"cells\":{\"values\":[[0.01,0.02,0.03,0.04,0.05,0.06,0.07,0.08,0.09,0.1,0.11,0.12,0.13,0.14,0.15,0.16,0.17,0.18,0.19],[0.042419962550167355,0.08452169680014773,0.12185681492530755,0.16195626032474222,0.20318995539612744,0.24498584957146982,0.2870985123742377,0.3294064752332826,0.3718430809422173,0.4143688074221509,0.4569587739448496,0.4995965516361934,0.5422708626961632,0.5849737117619694,0.6276992744752707,0.6704432084090772,0.7132022104759654,0.7559737238519721,0.7987557386850525]]},\"header\":{\"values\":[\"alpha\",\"RMSE\"]},\"type\":\"table\"}],                        {\"template\":{\"data\":{\"bar\":[{\"error_x\":{\"color\":\"#2a3f5f\"},\"error_y\":{\"color\":\"#2a3f5f\"},\"marker\":{\"line\":{\"color\":\"#E5ECF6\",\"width\":0.5},\"pattern\":{\"fillmode\":\"overlay\",\"size\":10,\"solidity\":0.2}},\"type\":\"bar\"}],\"barpolar\":[{\"marker\":{\"line\":{\"color\":\"#E5ECF6\",\"width\":0.5},\"pattern\":{\"fillmode\":\"overlay\",\"size\":10,\"solidity\":0.2}},\"type\":\"barpolar\"}],\"carpet\":[{\"aaxis\":{\"endlinecolor\":\"#2a3f5f\",\"gridcolor\":\"white\",\"linecolor\":\"white\",\"minorgridcolor\":\"white\",\"startlinecolor\":\"#2a3f5f\"},\"baxis\":{\"endlinecolor\":\"#2a3f5f\",\"gridcolor\":\"white\",\"linecolor\":\"white\",\"minorgridcolor\":\"white\",\"startlinecolor\":\"#2a3f5f\"},\"type\":\"carpet\"}],\"choropleth\":[{\"colorbar\":{\"outlinewidth\":0,\"ticks\":\"\"},\"type\":\"choropleth\"}],\"contour\":[{\"colorbar\":{\"outlinewidth\":0,\"ticks\":\"\"},\"colorscale\":[[0.0,\"#0d0887\"],[0.1111111111111111,\"#46039f\"],[0.2222222222222222,\"#7201a8\"],[0.3333333333333333,\"#9c179e\"],[0.4444444444444444,\"#bd3786\"],[0.5555555555555556,\"#d8576b\"],[0.6666666666666666,\"#ed7953\"],[0.7777777777777778,\"#fb9f3a\"],[0.8888888888888888,\"#fdca26\"],[1.0,\"#f0f921\"]],\"type\":\"contour\"}],\"contourcarpet\":[{\"colorbar\":{\"outlinewidth\":0,\"ticks\":\"\"},\"type\":\"contourcarpet\"}],\"heatmap\":[{\"colorbar\":{\"outlinewidth\":0,\"ticks\":\"\"},\"colorscale\":[[0.0,\"#0d0887\"],[0.1111111111111111,\"#46039f\"],[0.2222222222222222,\"#7201a8\"],[0.3333333333333333,\"#9c179e\"],[0.4444444444444444,\"#bd3786\"],[0.5555555555555556,\"#d8576b\"],[0.6666666666666666,\"#ed7953\"],[0.7777777777777778,\"#fb9f3a\"],[0.8888888888888888,\"#fdca26\"],[1.0,\"#f0f921\"]],\"type\":\"heatmap\"}],\"heatmapgl\":[{\"colorbar\":{\"outlinewidth\":0,\"ticks\":\"\"},\"colorscale\":[[0.0,\"#0d0887\"],[0.1111111111111111,\"#46039f\"],[0.2222222222222222,\"#7201a8\"],[0.3333333333333333,\"#9c179e\"],[0.4444444444444444,\"#bd3786\"],[0.5555555555555556,\"#d8576b\"],[0.6666666666666666,\"#ed7953\"],[0.7777777777777778,\"#fb9f3a\"],[0.8888888888888888,\"#fdca26\"],[1.0,\"#f0f921\"]],\"type\":\"heatmapgl\"}],\"histogram\":[{\"marker\":{\"pattern\":{\"fillmode\":\"overlay\",\"size\":10,\"solidity\":0.2}},\"type\":\"histogram\"}],\"histogram2d\":[{\"colorbar\":{\"outlinewidth\":0,\"ticks\":\"\"},\"colorscale\":[[0.0,\"#0d0887\"],[0.1111111111111111,\"#46039f\"],[0.2222222222222222,\"#7201a8\"],[0.3333333333333333,\"#9c179e\"],[0.4444444444444444,\"#bd3786\"],[0.5555555555555556,\"#d8576b\"],[0.6666666666666666,\"#ed7953\"],[0.7777777777777778,\"#fb9f3a\"],[0.8888888888888888,\"#fdca26\"],[1.0,\"#f0f921\"]],\"type\":\"histogram2d\"}],\"histogram2dcontour\":[{\"colorbar\":{\"outlinewidth\":0,\"ticks\":\"\"},\"colorscale\":[[0.0,\"#0d0887\"],[0.1111111111111111,\"#46039f\"],[0.2222222222222222,\"#7201a8\"],[0.3333333333333333,\"#9c179e\"],[0.4444444444444444,\"#bd3786\"],[0.5555555555555556,\"#d8576b\"],[0.6666666666666666,\"#ed7953\"],[0.7777777777777778,\"#fb9f3a\"],[0.8888888888888888,\"#fdca26\"],[1.0,\"#f0f921\"]],\"type\":\"histogram2dcontour\"}],\"mesh3d\":[{\"colorbar\":{\"outlinewidth\":0,\"ticks\":\"\"},\"type\":\"mesh3d\"}],\"parcoords\":[{\"line\":{\"colorbar\":{\"outlinewidth\":0,\"ticks\":\"\"}},\"type\":\"parcoords\"}],\"pie\":[{\"automargin\":true,\"type\":\"pie\"}],\"scatter\":[{\"marker\":{\"colorbar\":{\"outlinewidth\":0,\"ticks\":\"\"}},\"type\":\"scatter\"}],\"scatter3d\":[{\"line\":{\"colorbar\":{\"outlinewidth\":0,\"ticks\":\"\"}},\"marker\":{\"colorbar\":{\"outlinewidth\":0,\"ticks\":\"\"}},\"type\":\"scatter3d\"}],\"scattercarpet\":[{\"marker\":{\"colorbar\":{\"outlinewidth\":0,\"ticks\":\"\"}},\"type\":\"scattercarpet\"}],\"scattergeo\":[{\"marker\":{\"colorbar\":{\"outlinewidth\":0,\"ticks\":\"\"}},\"type\":\"scattergeo\"}],\"scattergl\":[{\"marker\":{\"colorbar\":{\"outlinewidth\":0,\"ticks\":\"\"}},\"type\":\"scattergl\"}],\"scattermapbox\":[{\"marker\":{\"colorbar\":{\"outlinewidth\":0,\"ticks\":\"\"}},\"type\":\"scattermapbox\"}],\"scatterpolar\":[{\"marker\":{\"colorbar\":{\"outlinewidth\":0,\"ticks\":\"\"}},\"type\":\"scatterpolar\"}],\"scatterpolargl\":[{\"marker\":{\"colorbar\":{\"outlinewidth\":0,\"ticks\":\"\"}},\"type\":\"scatterpolargl\"}],\"scatterternary\":[{\"marker\":{\"colorbar\":{\"outlinewidth\":0,\"ticks\":\"\"}},\"type\":\"scatterternary\"}],\"surface\":[{\"colorbar\":{\"outlinewidth\":0,\"ticks\":\"\"},\"colorscale\":[[0.0,\"#0d0887\"],[0.1111111111111111,\"#46039f\"],[0.2222222222222222,\"#7201a8\"],[0.3333333333333333,\"#9c179e\"],[0.4444444444444444,\"#bd3786\"],[0.5555555555555556,\"#d8576b\"],[0.6666666666666666,\"#ed7953\"],[0.7777777777777778,\"#fb9f3a\"],[0.8888888888888888,\"#fdca26\"],[1.0,\"#f0f921\"]],\"type\":\"surface\"}],\"table\":[{\"cells\":{\"fill\":{\"color\":\"#EBF0F8\"},\"line\":{\"color\":\"white\"}},\"header\":{\"fill\":{\"color\":\"#C8D4E3\"},\"line\":{\"color\":\"white\"}},\"type\":\"table\"}]},\"layout\":{\"annotationdefaults\":{\"arrowcolor\":\"#2a3f5f\",\"arrowhead\":0,\"arrowwidth\":1},\"autotypenumbers\":\"strict\",\"coloraxis\":{\"colorbar\":{\"outlinewidth\":0,\"ticks\":\"\"}},\"colorscale\":{\"diverging\":[[0,\"#8e0152\"],[0.1,\"#c51b7d\"],[0.2,\"#de77ae\"],[0.3,\"#f1b6da\"],[0.4,\"#fde0ef\"],[0.5,\"#f7f7f7\"],[0.6,\"#e6f5d0\"],[0.7,\"#b8e186\"],[0.8,\"#7fbc41\"],[0.9,\"#4d9221\"],[1,\"#276419\"]],\"sequential\":[[0.0,\"#0d0887\"],[0.1111111111111111,\"#46039f\"],[0.2222222222222222,\"#7201a8\"],[0.3333333333333333,\"#9c179e\"],[0.4444444444444444,\"#bd3786\"],[0.5555555555555556,\"#d8576b\"],[0.6666666666666666,\"#ed7953\"],[0.7777777777777778,\"#fb9f3a\"],[0.8888888888888888,\"#fdca26\"],[1.0,\"#f0f921\"]],\"sequentialminus\":[[0.0,\"#0d0887\"],[0.1111111111111111,\"#46039f\"],[0.2222222222222222,\"#7201a8\"],[0.3333333333333333,\"#9c179e\"],[0.4444444444444444,\"#bd3786\"],[0.5555555555555556,\"#d8576b\"],[0.6666666666666666,\"#ed7953\"],[0.7777777777777778,\"#fb9f3a\"],[0.8888888888888888,\"#fdca26\"],[1.0,\"#f0f921\"]]},\"colorway\":[\"#636efa\",\"#EF553B\",\"#00cc96\",\"#ab63fa\",\"#FFA15A\",\"#19d3f3\",\"#FF6692\",\"#B6E880\",\"#FF97FF\",\"#FECB52\"],\"font\":{\"color\":\"#2a3f5f\"},\"geo\":{\"bgcolor\":\"white\",\"lakecolor\":\"white\",\"landcolor\":\"#E5ECF6\",\"showlakes\":true,\"showland\":true,\"subunitcolor\":\"white\"},\"hoverlabel\":{\"align\":\"left\"},\"hovermode\":\"closest\",\"mapbox\":{\"style\":\"light\"},\"paper_bgcolor\":\"white\",\"plot_bgcolor\":\"#E5ECF6\",\"polar\":{\"angularaxis\":{\"gridcolor\":\"white\",\"linecolor\":\"white\",\"ticks\":\"\"},\"bgcolor\":\"#E5ECF6\",\"radialaxis\":{\"gridcolor\":\"white\",\"linecolor\":\"white\",\"ticks\":\"\"}},\"scene\":{\"xaxis\":{\"backgroundcolor\":\"#E5ECF6\",\"gridcolor\":\"white\",\"gridwidth\":2,\"linecolor\":\"white\",\"showbackground\":true,\"ticks\":\"\",\"zerolinecolor\":\"white\"},\"yaxis\":{\"backgroundcolor\":\"#E5ECF6\",\"gridcolor\":\"white\",\"gridwidth\":2,\"linecolor\":\"white\",\"showbackground\":true,\"ticks\":\"\",\"zerolinecolor\":\"white\"},\"zaxis\":{\"backgroundcolor\":\"#E5ECF6\",\"gridcolor\":\"white\",\"gridwidth\":2,\"linecolor\":\"white\",\"showbackground\":true,\"ticks\":\"\",\"zerolinecolor\":\"white\"}},\"shapedefaults\":{\"line\":{\"color\":\"#2a3f5f\"}},\"ternary\":{\"aaxis\":{\"gridcolor\":\"white\",\"linecolor\":\"white\",\"ticks\":\"\"},\"baxis\":{\"gridcolor\":\"white\",\"linecolor\":\"white\",\"ticks\":\"\"},\"bgcolor\":\"#E5ECF6\",\"caxis\":{\"gridcolor\":\"white\",\"linecolor\":\"white\",\"ticks\":\"\"}},\"title\":{\"x\":0.05},\"xaxis\":{\"automargin\":true,\"gridcolor\":\"white\",\"linecolor\":\"white\",\"ticks\":\"\",\"title\":{\"standoff\":15},\"zerolinecolor\":\"white\",\"zerolinewidth\":2},\"yaxis\":{\"automargin\":true,\"gridcolor\":\"white\",\"linecolor\":\"white\",\"ticks\":\"\",\"title\":{\"standoff\":15},\"zerolinecolor\":\"white\",\"zerolinewidth\":2}}}},                        {\"responsive\": true}                    ).then(function(){\n",
              "                            \n",
              "var gd = document.getElementById('aebf75fe-48bb-495a-9094-888764f5e9d0');\n",
              "var x = new MutationObserver(function (mutations, observer) {{\n",
              "        var display = window.getComputedStyle(gd).display;\n",
              "        if (!display || display === 'none') {{\n",
              "            console.log([gd, 'removed!']);\n",
              "            Plotly.purge(gd);\n",
              "            observer.disconnect();\n",
              "        }}\n",
              "}});\n",
              "\n",
              "// Listen for the removal of the full notebook cells\n",
              "var notebookContainer = gd.closest('#notebook-container');\n",
              "if (notebookContainer) {{\n",
              "    x.observe(notebookContainer, {childList: true});\n",
              "}}\n",
              "\n",
              "// Listen for the clearing of the current output cell\n",
              "var outputEl = gd.closest('.output');\n",
              "if (outputEl) {{\n",
              "    x.observe(outputEl, {childList: true});\n",
              "}}\n",
              "\n",
              "                        })                };                            </script>        </div>\n",
              "</body>\n",
              "</html>"
            ]
          },
          "metadata": {}
        }
      ],
      "source": [
        "#@title 1.3.3.2 Implement Lasso regression and make a table of different RMSE scores you achieved with different values of alpha.\n",
        "import sklearn\n",
        "\n",
        "# Implement Lasso regression\n",
        "from sklearn.linear_model import Lasso\n",
        "lasso = Lasso()\n",
        "lasso.fit(x_train, y_train)\n",
        "print(\"r2_score of lasso regression with alpha = 1:\",lasso.score(x_test, y_test))\n",
        "\n",
        "# Make a table where you explore the effect of different values of `alpha`\n",
        "import plotly.graph_objects as go\n",
        "from sklearn.metrics import mean_squared_error\n",
        "\n",
        "alpha_values = np.around(np.arange (0.01, 0.2, 0.01, dtype='float'), decimals=2)\n",
        "y = []\n",
        "for i in alpha_values:\n",
        "    lasso = Lasso(alpha = i)\n",
        "    lasso.fit(x_train, y_train)\n",
        "    y.append(np.sqrt(mean_squared_error(y_test, lasso.predict(x_test))))\n",
        "\n",
        "\n",
        "fig = go.Figure(data=[go.Table(header=dict(values=['alpha', 'RMSE']), cells=dict(values=[alpha_values, y]))])\n",
        "fig.show()"
      ],
      "id": "09148bbc"
    },
    {
      "cell_type": "markdown",
      "metadata": {
        "id": "Hq5eyeqem-K2"
      },
      "source": [
        "<!-- Your answer to 1.3.3.3 -->\n",
        "`1.3.3.3 Answer`\n",
        "\n",
        "* In lasso regression, during the calculation of cost function only considers absolute coefficients (weights), the optimization algorithm will penalize high coefficients. This is known as the L1 norm.\n",
        "\n",
        "* Cost function of lasso regression is: Min(||Y – X(theta)||^2 + λ||theta||)\n",
        "\n",
        "* Here ||theta|| forces parameters(theta) to be zero or small as posible, also λ scale the term.\n",
        "\n",
        "* It can shrink some coefficients to zero, so that it can effectively perform feature selection.\n",
        "\n",
        "* Model will learn parameters by taking it's value small, to stop the overfit."
      ],
      "id": "Hq5eyeqem-K2"
    },
    {
      "cell_type": "code",
      "execution_count": 66,
      "metadata": {
        "id": "accompanied-worst",
        "colab": {
          "base_uri": "https://localhost:8080/",
          "height": 458
        },
        "outputId": "8395fe39-f8fc-495e-f7ef-41d90ff2d10d"
      },
      "outputs": [
        {
          "output_type": "display_data",
          "data": {
            "text/plain": [
              "<Figure size 504x504 with 1 Axes>"
            ],
            "image/png": "[encoded data removed]"
          },
          "metadata": {
            "needs_background": "light"
          }
        }
      ],
      "source": [
        "#@title 1.3.3.4 Parity Plot of Lasso Regression model's y-predictions on the test set with the actual values.\n",
        "lasso = Lasso(alpha = 0.015)\n",
        "lasso.fit(x_train, y_train)\n",
        "y_pred = lasso.predict(x_test)\n",
        "fig, ax = plt.subplots(figsize=(7,7))\n",
        "\n",
        "ax.scatter(y_test, y_pred)\n",
        "\n",
        "lims = [\n",
        "    np.min([ax.get_xlim(), ax.get_ylim()]),\n",
        "    np.max([ax.get_xlim(), ax.get_ylim()]),\n",
        "]\n",
        "ax.plot(lims, lims, 'k-', alpha=0.75, zorder=0)\n",
        "ax.set_aspect('equal')\n",
        "ax.set_xlim(lims)\n",
        "ax.set_ylim(lims)\n",
        "\n",
        "ax.set_title('Parity Plot of Lasso Regression with alpha = 0.01')\n",
        "ax.set_xlabel('Ground truth y-values')\n",
        "ax.set_ylabel('Predicted y-values')\n",
        "plt.show()"
      ],
      "id": "accompanied-worst"
    }
  ],
  "metadata": {
    "colab": {
      "provenance": [],
      "include_colab_link": true
    },
    "kernelspec": {
      "display_name": "Python 3 (ipykernel)",
      "language": "python",
      "name": "python3"
    },
    "language_info": {
      "codemirror_mode": {
        "name": "ipython",
        "version": 3
      },
      "file_extension": ".py",
      "mimetype": "text/x-python",
      "name": "python",
      "nbconvert_exporter": "python",
      "pygments_lexer": "ipython3",
      "version": "3.8.6"
    }
  },
  "nbformat": 4,
  "nbformat_minor": 5
}